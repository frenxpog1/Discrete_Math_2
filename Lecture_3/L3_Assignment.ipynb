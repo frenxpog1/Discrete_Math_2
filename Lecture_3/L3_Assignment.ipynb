{
 "cells": [
  {
   "cell_type": "code",
   "execution_count": null,
   "metadata": {},
   "outputs": [],
   "source": [
    "import networkx as nx\n",
    "import matplotlib.pyplot as plt\n",
    "\n",
    "draw_params = {\n",
    "    \"with_labels\": True,\n",
    "    \"edge_color\": \"gray\",\n",
    "    \"width\": 3,\n",
    "    \"linewidths\": 3,\n",
    "    \"edgecolors\": \"gray\",\n",
    "    \"node_color\": \"white\",\n",
    "    \"node_size\": 1000,\n",
    "    \"font_color\": \"black\",\n",
    "    \"font_family\": \"monospace\",\n",
    "    \"font_weight\": \"bold\",\n",
    "}"
   ]
  },
  {
   "cell_type": "markdown",
   "metadata": {},
   "source": [
    "**Graph**\n",
    "\n",
    "A graph G consists of two finite sets: a nonempty set V(G) of vertices and a set E(G) of edges, where each edge is associated with a set consisting of either one or two vertices called its endpoints. The correspondence from edges to endpoints is called the edge-endpoint function.\n"
   ]
  },
  {
   "cell_type": "code",
   "execution_count": null,
   "metadata": {},
   "outputs": [],
   "source": [
    "G = nx.Graph()\n",
    "G.add_edges_from([(1, 1), (1, 2), (2, 3), (2, 3), (3, 4), (4, 5), (5, 1), (5, 6)])\n",
    "\n",
    "nx.draw(G, **draw_params)\n",
    "plt.show()"
   ]
  },
  {
   "cell_type": "markdown",
   "metadata": {},
   "source": [
    "\n",
    "**Directed Graph**\n",
    "A directed graph, or digraph, consists of two finite sets: a nonempty set V (G) of vertices and a set D(G) of directed edges, where each is associated with an ordered pair of vertices called its endpoints. If edge e is associated with the pair (v, w) of vertices, then e is said to be the (directed) edge from v to w."
   ]
  },
  {
   "cell_type": "code",
   "execution_count": null,
   "metadata": {},
   "outputs": [],
   "source": [
    "G_directed = nx.DiGraph()\n",
    "G_directed.add_edges_from([(1, 2), (2, 3), (3, 1), (3, 4), (4, 5), (5, 1)])\n",
    "\n",
    "nx.draw(G_directed, **draw_params, arrowsize=40)\n",
    "plt.show()"
   ]
  },
  {
   "cell_type": "markdown",
   "metadata": {},
   "source": [
    "**Simple Graph**\n",
    "A simple graph is a graph that does not have any loops or parallel edges. In a simple\n",
    "graph, an edge with endpoints $v$ and $w$ is denoted $\\{v, w\\}$."
   ]
  },
  {
   "cell_type": "code",
   "execution_count": null,
   "metadata": {},
   "outputs": [],
   "source": [
    "G_simple = nx.Graph()\n",
    "G_simple.add_edges_from([(1, 2), (2, 3), (3, 1)])\n",
    "\n",
    "nx.draw(G_simple, **draw_params)\n",
    "plt.show()"
   ]
  },
  {
   "cell_type": "markdown",
   "metadata": {},
   "source": [
    "**Complete Graph**\n",
    "\n",
    "Let $n$ be a positive integer. A complete graph on $n$ vertices, denoted $K_n$, is a simple\n",
    "graph with $n$ vertices and exactly one edge connecting each pair of distinct vertices."
   ]
  },
  {
   "cell_type": "code",
   "execution_count": null,
   "metadata": {},
   "outputs": [],
   "source": [
    "G_complete = nx.complete_graph(8)\n",
    "\n",
    "nx.draw(G_complete, **draw_params)\n",
    "plt.show()"
   ]
  },
  {
   "cell_type": "markdown",
   "metadata": {},
   "source": [
    "**Bipartite Graph**\n",
    "Let $m$ and $n$ be positive integers. A complete bipartite graph on $(m, n)$ vertices, denoted $K_{m,n}$, is a simple graph with distinct vertices $v_1, v_2, . . . , v_m$ and $w_1, w_2, . . . , w_n$ that satisfies the following properties: $\\forall i,k = 1,2,...,m$ and $\\forall j,l = 1,2,...,n$\n",
    "\n",
    "1. There is an edge from each vertex $v_i$ to each vertex $w_j$.\n",
    "2. There is no edge from any vertex $v_i$ to any other vertex $v_k$.\n",
    "3. There is no edge from any vertex $w_j$ to any other vertex $w_l$."
   ]
  },
  {
   "cell_type": "code",
   "execution_count": null,
   "metadata": {},
   "outputs": [],
   "source": [
    "G_bipartite = nx.Graph()\n",
    "G_bipartite.add_nodes_from([1, 2, 3, 4], bipartite=0)\n",
    "G_bipartite.add_nodes_from([\"A\", \"B\", \"C\"], bipartite=1)\n",
    "G_bipartite.add_edges_from(\n",
    "    [(1, \"A\"), (1, \"B\"), (2, \"A\"), (2, \"B\"), (2, \"C\"), (3, \"A\"), (4, \"C\")]\n",
    ")\n",
    "\n",
    "nx.draw(G_bipartite, nx.bipartite_layout(G_bipartite, [1, 2, 3, 4]), **draw_params)\n",
    "plt.show()"
   ]
  },
  {
   "cell_type": "markdown",
   "metadata": {},
   "source": [
    "**Subgraph**\n",
    "A graph $H$ is said to be a subgraph of a graph $G$ if, and only if, every vertex in $H$ is also a vertex in $G$,every edge in $H$ is also an edge in $G$,and every edge in $H$ has the same endpoints as it has in $G$."
   ]
  },
  {
   "cell_type": "code",
   "execution_count": null,
   "metadata": {},
   "outputs": [],
   "source": [
    "_, axes = plt.subplots(1, 2, figsize=(12, 6))\n",
    "\n",
    "G_main = nx.complete_graph(6)\n",
    "G_sub = nx.subgraph(G_main, [0, 1, 2])\n",
    "\n",
    "nx.draw(G_main, ax=axes[0], **draw_params)\n",
    "axes[0].set_title(\"Original Graph\")\n",
    "\n",
    "nx.draw(G_sub, ax=axes[1], **draw_params)\n",
    "axes[1].set_title(\"Subgraph\")\n",
    "\n",
    "plt.tight_layout()\n",
    "plt.show()"
   ]
  },
  {
   "cell_type": "markdown",
   "metadata": {},
   "source": [
    "**Euler's Circuit**\n",
    "\n",
    "- Let $G$ be a graph, a $\\textbf{Euler's circuit}$ that contains every vertex and every edge of G.\n",
    "- The $\\textbf{Euler's circuit}$ for $G$ is a sequence of adjacent vertices, and edges in $G$ that has at least one edge; starts and ends with the same vertex. Uses every vertex of G at least once, and uses every edge of $G$ $\\textbf{\"EXACTLY ONCE\"}$.\n",
    "- If $G$ is connected, and the degree of every vertex of $G$ is a positive even integer, then G has a $\\textbf{Euler's circuit}$.\n",
    "- $G$ has a $\\textbf{Euler's circuit} \\iff$ $G$ is connected and every vertex of $G$ has positive even degree."
   ]
  },
  {
   "cell_type": "code",
   "execution_count": null,
   "metadata": {},
   "outputs": [],
   "source": [
    "G_euler_circuit = nx.cycle_graph(5)\n",
    "nx.draw(G_euler_circuit, nx.circular_layout(G_euler_circuit), **draw_params)\n",
    "plt.show()"
   ]
  },
  {
   "cell_type": "markdown",
   "metadata": {},
   "source": [
    "**Euler's Trail**\n",
    "\n",
    "- Let $G$ be a graph, and $v$ and $w$ be distinct vertices in $G$, then a $\\textbf{Euler's Trail}$ from $v$ to $w$ is a sequence of adjacent edges and vertices that starts at $v$ and ends at $w$, passes through every vertex of $G$ at least once, and traverses every edge of $G$ $\\textbf{\"EXACTLY ONCE\"}$.\n",
    "- If $v$ and $w$ are two distinct vertices of $G$, then there is a $\\textbf{Euler's path}$ from $v$ to $w \\iff G$ is connected; $v$ and $w$ have odd degree, and all other vertices of $G$ has a positive even degree."
   ]
  },
  {
   "cell_type": "code",
   "execution_count": null,
   "metadata": {},
   "outputs": [],
   "source": [
    "G_euler_trail = nx.path_graph(6)\n",
    "nx.draw(G_euler_trail, nx.circular_layout(G_euler_trail), **draw_params)\n",
    "plt.show()"
   ]
  },
  {
   "cell_type": "markdown",
   "metadata": {},
   "source": [
    "**Hamiltonian Circuit**\n",
    "A Hamiltonian circuit for G is a sequence of adjacent vertices and distinct edges in which every vertex of G appears exactly once, except for the first and the last, which are the same."
   ]
  },
  {
   "cell_type": "code",
   "execution_count": null,
   "metadata": {},
   "outputs": [],
   "source": [
    "G_hamiltonian = nx.cycle_graph(6)\n",
    "nx.draw(G_hamiltonian, nx.circular_layout(G_hamiltonian), **draw_params)\n",
    "plt.show()"
   ]
  }
 ],
 "metadata": {
  "kernelspec": {
   "display_name": "Python 3",
   "language": "python",
   "name": "python3"
  },
  "language_info": {
   "name": "python",
   "version": "3.11.9"
  }
 },
 "nbformat": 4,
 "nbformat_minor": 2
}
